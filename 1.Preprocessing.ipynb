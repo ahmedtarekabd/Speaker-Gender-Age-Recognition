{
 "cells": [
  {
   "cell_type": "markdown",
   "id": "b8bc2fb3",
   "metadata": {},
   "source": [
    "# Imports"
   ]
  },
  {
   "cell_type": "code",
   "execution_count": null,
   "id": "3cfaad4e",
   "metadata": {},
   "outputs": [],
   "source": [
    "import os\n",
    "import librosa\n",
    "import numpy as np\n",
    "import pandas as pd\n",
    "import soundfile as sf\n",
    "import noisereduce as nr"
   ]
  },
  {
   "cell_type": "markdown",
   "id": "221c9d7c",
   "metadata": {},
   "source": [
    "# Config"
   ]
  },
  {
   "cell_type": "code",
   "execution_count": null,
   "id": "d6d2b119",
   "metadata": {},
   "outputs": [],
   "source": [
    "from config import run_config\n",
    "\n",
    "run_config()"
   ]
  },
  {
   "cell_type": "markdown",
   "id": "67f797b7",
   "metadata": {},
   "source": [
    "# Helper Functions"
   ]
  },
  {
   "cell_type": "code",
   "execution_count": null,
   "id": "1b573a11",
   "metadata": {},
   "outputs": [],
   "source": [
    "def load_audio(path, sr=16000):\n",
    "    try:\n",
    "        y, _ = librosa.load(path, sr=sr)\n",
    "        return y\n",
    "    except Exception as e:\n",
    "        print(f\"Error loading {path}: {e}\")\n",
    "        return None"
   ]
  },
  {
   "cell_type": "code",
   "execution_count": null,
   "id": "07f88bc5",
   "metadata": {},
   "outputs": [],
   "source": [
    "def preprocess_audio(y, sr=16000):\n",
    "    if y is None:\n",
    "        return None\n",
    "    # Remove silence\n",
    "    intervals = librosa.effects.split(y, top_db=20)\n",
    "    y_trimmed = np.concatenate([y[start:end] for start, end in intervals])\n",
    "    \n",
    "    # Normalize volume\n",
    "    y_norm = librosa.util.normalize(y_trimmed)\n",
    "    \n",
    "    # Noise reduction\n",
    "    y_denoised = nr.reduce_noise(y=y_norm, sr=sr)\n",
    "\n",
    "    # Padding/trimming to fixed length (e.g., 5 sec)\n",
    "    desired_length = sr * 5\n",
    "    if len(y_denoised) > desired_length:\n",
    "        y_denoised = y_denoised[:desired_length]\n",
    "    else:\n",
    "        y_denoised = np.pad(y_denoised, (0, max(0, desired_length - len(y_denoised))))\n",
    "    \n",
    "    return y_denoised"
   ]
  },
  {
   "cell_type": "markdown",
   "id": "f5c68c3c",
   "metadata": {},
   "source": [
    "# Preprocessing"
   ]
  },
  {
   "cell_type": "code",
   "execution_count": null,
   "id": "d6c5e808",
   "metadata": {},
   "outputs": [],
   "source": [
    "df = pd.read_csv(\"data/filtered_data_labeled.tsv\", sep='\\t')\n",
    "df.head()"
   ]
  },
  {
   "cell_type": "code",
   "execution_count": null,
   "id": "8fe33353",
   "metadata": {},
   "outputs": [],
   "source": [
    "# Filter out corrupt or unreadable audio\n",
    "df['audio_data'] = df['audio'].apply(lambda path: preprocess_audio(load_audio(path)))\n",
    "\n",
    "# Drop rows with failed audio loading\n",
    "df = df[df['audio_data'].notnull()]\n",
    "df.reset_index(drop=True, inplace=True)"
   ]
  },
  {
   "cell_type": "code",
   "execution_count": null,
   "id": "9bfe0b54",
   "metadata": {},
   "outputs": [],
   "source": [
    "# Extract MFCC features (or replace with other feature extractors)\n",
    "df['features'] = df['audio_data'].apply(lambda y: librosa.feature.mfcc(y=y, sr=16000, n_mfcc=40).mean(axis=1))\n",
    "\n",
    "X = np.stack(df['features'].values)\n",
    "y = df['label'].values"
   ]
  },
  {
   "cell_type": "code",
   "execution_count": null,
   "id": "9b07f0fc",
   "metadata": {},
   "outputs": [],
   "source": [
    "# Train/val/test split\n",
    "X_train, X_temp, y_train, y_temp = train_test_split(X, y, test_size=0.15, random_state=0)\n",
    "X_val, X_test, y_val, y_test = train_test_split(X_temp, y_temp, test_size=0.5, random_state=0)"
   ]
  }
 ],
 "metadata": {
  "kernelspec": {
   "display_name": "venv",
   "language": "python",
   "name": "python3"
  },
  "language_info": {
   "name": "python",
   "version": "3.10.6"
  }
 },
 "nbformat": 4,
 "nbformat_minor": 5
}
