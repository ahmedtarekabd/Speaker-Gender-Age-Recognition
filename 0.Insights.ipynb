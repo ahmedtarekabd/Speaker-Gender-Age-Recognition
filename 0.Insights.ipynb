{
 "cells": [
  {
   "cell_type": "markdown",
   "id": "79689589",
   "metadata": {},
   "source": [
    "# Imports"
   ]
  },
  {
   "cell_type": "code",
   "execution_count": 1,
   "id": "b191a944",
   "metadata": {},
   "outputs": [],
   "source": [
    "import os\n",
    "import librosa\n",
    "import numpy as np\n",
    "import pandas as pd\n",
    "import soundfile as sf\n",
    "import noisereduce as nr\n",
    "import matplotlib.pyplot as plt\n",
    "import seaborn as sns\n",
    "\n",
    "import shutil\n",
    "from pathlib import Path"
   ]
  },
  {
   "cell_type": "markdown",
   "id": "bde99f1d",
   "metadata": {},
   "source": [
    "# Config"
   ]
  },
  {
   "cell_type": "code",
   "execution_count": null,
   "id": "bbb016e1",
   "metadata": {},
   "outputs": [],
   "source": [
    "from config import run_config, DATA_DIR, AUDIO_PATH\n",
    "\n",
    "run_config()"
   ]
  },
  {
   "cell_type": "markdown",
   "id": "aeb955c0",
   "metadata": {},
   "source": [
    "# Helper Functions"
   ]
  },
  {
   "cell_type": "code",
   "execution_count": null,
   "id": "0bd867e1",
   "metadata": {},
   "outputs": [],
   "source": [
    "def plot_feature_distributions(X, y, feature_names, selected_features):\n",
    "    df = pd.DataFrame(X, columns=feature_names)\n",
    "    df['label'] = y\n",
    "\n",
    "    for feature in selected_features:\n",
    "        plt.figure(figsize=(6, 4))\n",
    "        sns.kdeplot(data=df, x=feature, hue='label', fill=True, common_norm=False, alpha=0.5)\n",
    "        plt.title(f'Distribution of {feature} by Class')\n",
    "        plt.grid(True)\n",
    "        plt.show()"
   ]
  },
  {
   "cell_type": "code",
   "execution_count": null,
   "id": "f57e50fe",
   "metadata": {},
   "outputs": [],
   "source": [
    "def plot_feature_samples(X, y, feature_slices):\n",
    "    n_classes = len(np.unique(y))\n",
    "    n_features = len(feature_slices)\n",
    "\n",
    "    fig, axs = plt.subplots(n_features, n_classes, figsize=(4 * n_classes, 3 * n_features), squeeze=False)\n",
    "    fig.suptitle('Representative Feature Profiles per Class', fontsize=18, y=1.02)\n",
    "\n",
    "    for i, (feat_name, feat_slice) in enumerate(feature_slices.items()):\n",
    "        for cls in range(n_classes):\n",
    "            ax = axs[i, cls]\n",
    "            # pick one sample of this class\n",
    "            idx = np.where(y == cls)[0][0]  # first sample from this class\n",
    "            values = X[idx][feat_slice]\n",
    "\n",
    "            if len(values) == 1:\n",
    "                ax.bar([feat_name], values)\n",
    "            else:\n",
    "                ax.plot(values, marker='o')\n",
    "            ax.set_title(f\"{feat_name} | Class {cls}\")\n",
    "            ax.set_xticks(range(len(values)))\n",
    "            ax.grid(True)\n",
    "\n",
    "    plt.tight_layout()\n",
    "    plt.show()\n"
   ]
  },
  {
   "cell_type": "markdown",
   "id": "96c30a2d",
   "metadata": {},
   "source": [
    "# Load Data"
   ]
  },
  {
   "cell_type": "code",
   "execution_count": null,
   "id": "e6ed862b",
   "metadata": {},
   "outputs": [],
   "source": [
    "df = pd.read_csv(DATA_DIR / \"filtered_data_labeled.tsv\", sep='\\t')\n",
    "df.head()"
   ]
  },
  {
   "cell_type": "code",
   "execution_count": null,
   "id": "994ae680",
   "metadata": {},
   "outputs": [
    {
     "ename": "",
     "evalue": "",
     "output_type": "error",
     "traceback": [
      "\u001b[1;31mFailed to start the Kernel. \n",
      "\u001b[1;31mUnable to start Kernel 'venv (Python 3.10.6)' due to a timeout waiting for the ports to get used. \n",
      "\u001b[1;31mView Jupyter <a href='command:jupyter.viewOutput'>log</a> for further details."
     ]
    }
   ],
   "source": [
    "df[df['path'].str.contains('.wav')].describe()"
   ]
  },
  {
   "cell_type": "code",
   "execution_count": null,
   "id": "b11e4530",
   "metadata": {},
   "outputs": [
    {
     "name": "stdout",
     "output_type": "stream",
     "text": [
      "Copying 1/20: common_voice_en_19687170.mp3\n",
      "Copied: data\\audios\\common_voice_en_19687170.mp3 -> data\\data_20_files as 1.mp3\n",
      "Copying 2/20: common_voice_en_19687171.mp3\n",
      "Copied: data\\audios\\common_voice_en_19687171.mp3 -> data\\data_20_files as 2.mp3\n",
      "Copying 3/20: common_voice_en_19687172.mp3\n",
      "Copied: data\\audios\\common_voice_en_19687172.mp3 -> data\\data_20_files as 3.mp3\n",
      "Copying 4/20: common_voice_en_19687173.mp3\n",
      "Copied: data\\audios\\common_voice_en_19687173.mp3 -> data\\data_20_files as 4.mp3\n",
      "Copying 5/20: common_voice_en_19687174.mp3\n",
      "Copied: data\\audios\\common_voice_en_19687174.mp3 -> data\\data_20_files as 5.mp3\n",
      "Copying 6/20: common_voice_en_529569.mp3\n",
      "Copied: data\\audios\\common_voice_en_529569.mp3 -> data\\data_20_files as 6.mp3\n",
      "Copying 7/20: common_voice_en_529573.mp3\n",
      "Copied: data\\audios\\common_voice_en_529573.mp3 -> data\\data_20_files as 7.mp3\n",
      "Copying 8/20: common_voice_en_18421093.mp3\n",
      "Copied: data\\audios\\common_voice_en_18421093.mp3 -> data\\data_20_files as 8.mp3\n",
      "Copying 9/20: common_voice_en_18421094.mp3\n",
      "Copied: data\\audios\\common_voice_en_18421094.mp3 -> data\\data_20_files as 9.mp3\n",
      "Copying 10/20: common_voice_en_18421095.mp3\n",
      "Copied: data\\audios\\common_voice_en_18421095.mp3 -> data\\data_20_files as 10.mp3\n",
      "Copying 11/20: common_voice_en_19183522.mp3\n",
      "Copied: data\\audios\\common_voice_en_19183522.mp3 -> data\\data_20_files as 11.mp3\n",
      "Copying 12/20: common_voice_en_19183523.mp3\n",
      "Copied: data\\audios\\common_voice_en_19183523.mp3 -> data\\data_20_files as 12.mp3\n",
      "Copying 13/20: common_voice_en_19183524.mp3\n",
      "Copied: data\\audios\\common_voice_en_19183524.mp3 -> data\\data_20_files as 13.mp3\n",
      "Copying 14/20: common_voice_en_19183525.mp3\n",
      "Copied: data\\audios\\common_voice_en_19183525.mp3 -> data\\data_20_files as 14.mp3\n",
      "Copying 15/20: common_voice_en_19183526.mp3\n",
      "Copied: data\\audios\\common_voice_en_19183526.mp3 -> data\\data_20_files as 15.mp3\n",
      "Copying 16/20: common_voice_en_19150053.mp3\n",
      "Copied: data\\audios\\common_voice_en_19150053.mp3 -> data\\data_20_files as 16.mp3\n",
      "Copying 17/20: common_voice_en_19150054.mp3\n",
      "Copied: data\\audios\\common_voice_en_19150054.mp3 -> data\\data_20_files as 17.mp3\n",
      "Copying 18/20: common_voice_en_19150055.mp3\n",
      "Copied: data\\audios\\common_voice_en_19150055.mp3 -> data\\data_20_files as 18.mp3\n",
      "Copying 19/20: common_voice_en_19150056.mp3\n",
      "Copied: data\\audios\\common_voice_en_19150056.mp3 -> data\\data_20_files as 19.mp3\n",
      "Copying 20/20: common_voice_en_19150057.mp3\n",
      "Copied: data\\audios\\common_voice_en_19150057.mp3 -> data\\data_20_files as 20.mp3\n"
     ]
    }
   ],
   "source": [
    "def copy_samples_to_folder(df, audio_path, destination_folder):\n",
    "    # Select 20 audio files from the DataFrame\n",
    "    selected_files = df.groupby('label').head(5)[['path', 'label']]  # Select 5 files from each class (label)\n",
    "\n",
    "    # Create the destination folder if it doesn't exist\n",
    "    destination_folder.mkdir(parents=True, exist_ok=True)\n",
    "\n",
    "    # Copy the files\n",
    "    for i, (_, row) in enumerate(selected_files.iterrows()):\n",
    "        file_path = row['path']\n",
    "        label = row['label']\n",
    "        print(f\"Copying {i+1}/{len(selected_files)}: {file_path}\")\n",
    "        file_path = os.path.join(audio_path, file_path)\n",
    "        if os.path.exists(file_path):  # Check if the file exists\n",
    "            destination_file = destination_folder / f\"{i+1}.{file_path.split('.')[-1]}\"\n",
    "            shutil.copy(file_path, destination_file)\n",
    "            print(f\"Copied: {file_path} -> {destination_folder} as {destination_file.name}\")\n",
    "        else:\n",
    "            print(f\"File not found: {file_path}\")\n",
    "\n",
    "    selected_df_labels = selected_files['label']\n",
    "    selected_df_labels = selected_df_labels.reset_index(drop=True)\n",
    "    selected_df_labels.to_csv(destination_folder / \"labels.tsv\", sep='\\t', index=False, header=False)\n",
    "\n",
    "# # Define the destination folder\n",
    "# destination_folder = Path(\"data/sampled_audio\")\n",
    "# copy_samples_to_folder(df, AUDIO_PATH, destination_folder)"
   ]
  },
  {
   "cell_type": "markdown",
   "id": "0e954dce",
   "metadata": {},
   "source": [
    "# Encoded Label Explanation"
   ]
  },
  {
   "cell_type": "code",
   "execution_count": 4,
   "id": "942b2cc6",
   "metadata": {},
   "outputs": [
    {
     "data": {
      "text/html": [
       "<div>\n",
       "<style scoped>\n",
       "    .dataframe tbody tr th:only-of-type {\n",
       "        vertical-align: middle;\n",
       "    }\n",
       "\n",
       "    .dataframe tbody tr th {\n",
       "        vertical-align: top;\n",
       "    }\n",
       "\n",
       "    .dataframe thead th {\n",
       "        text-align: right;\n",
       "    }\n",
       "</style>\n",
       "<table border=\"1\" class=\"dataframe\">\n",
       "  <thead>\n",
       "    <tr style=\"text-align: right;\">\n",
       "      <th></th>\n",
       "      <th>age</th>\n",
       "      <th>gender</th>\n",
       "    </tr>\n",
       "    <tr>\n",
       "      <th>label</th>\n",
       "      <th></th>\n",
       "      <th></th>\n",
       "    </tr>\n",
       "  </thead>\n",
       "  <tbody>\n",
       "    <tr>\n",
       "      <th>0</th>\n",
       "      <td>twenties</td>\n",
       "      <td>male</td>\n",
       "    </tr>\n",
       "    <tr>\n",
       "      <th>1</th>\n",
       "      <td>twenties</td>\n",
       "      <td>female</td>\n",
       "    </tr>\n",
       "    <tr>\n",
       "      <th>2</th>\n",
       "      <td>fifties</td>\n",
       "      <td>male</td>\n",
       "    </tr>\n",
       "    <tr>\n",
       "      <th>3</th>\n",
       "      <td>fifties</td>\n",
       "      <td>female</td>\n",
       "    </tr>\n",
       "  </tbody>\n",
       "</table>\n",
       "</div>"
      ],
      "text/plain": [
       "            age  gender\n",
       "label                  \n",
       "0      twenties    male\n",
       "1      twenties  female\n",
       "2       fifties    male\n",
       "3       fifties  female"
      ]
     },
     "execution_count": 4,
     "metadata": {},
     "output_type": "execute_result"
    }
   ],
   "source": [
    "decoded_labels =  df.drop_duplicates(subset=['label'])[['label', 'age', 'gender']]\\\n",
    "                    .sort_values(by='label', ignore_index=True)\\\n",
    "                    .set_index('label')\n",
    "decoded_labels"
   ]
  },
  {
   "cell_type": "markdown",
   "id": "e75a11a3",
   "metadata": {},
   "source": [
    "# Check Data Imbalance"
   ]
  },
  {
   "cell_type": "code",
   "execution_count": 5,
   "id": "2d40cb47",
   "metadata": {},
   "outputs": [
    {
     "data": {
      "image/png": "[encoded data removed]",
      "text/plain": [
       "<Figure size 640x480 with 1 Axes>"
      ]
     },
     "metadata": {},
     "output_type": "display_data"
    }
   ],
   "source": [
    "(df['label'].value_counts() / df.shape[0] * 100).plot(kind='bar', title='Label Distribution');"
   ]
  },
  {
   "cell_type": "markdown",
   "id": "31b3ae17",
   "metadata": {},
   "source": [
    "# Age & Gender Variety"
   ]
  },
  {
   "cell_type": "code",
   "execution_count": 6,
   "id": "e2b95e7d",
   "metadata": {},
   "outputs": [
    {
     "data": {
      "image/png": "[encoded data removed]",
      "text/plain": [
       "<Figure size 1000x400 with 2 Axes>"
      ]
     },
     "metadata": {},
     "output_type": "display_data"
    }
   ],
   "source": [
    "fig, axes = plt.subplots(1, 2, figsize=(10, 4))\n",
    "axes = axes.ravel()\n",
    "\n",
    "for i, key in enumerate(['age', 'gender']):\n",
    "    df[key].value_counts().plot(kind='bar', ax=axes[i])\n",
    "    axes[i].set_title(f'{key.capitalize()} Distribution')\n",
    "    axes[i].set_xlabel(key.capitalize())\n",
    "    axes[i].set_ylabel('Count')\n",
    "\n",
    "plt.tight_layout()"
   ]
  },
  {
   "cell_type": "markdown",
   "id": "f61180cf",
   "metadata": {},
   "source": [
    "# Accent Variety"
   ]
  },
  {
   "cell_type": "code",
   "execution_count": 7,
   "id": "990f2dd2",
   "metadata": {},
   "outputs": [
    {
     "data": {
      "image/png": "[encoded data removed]",
      "text/plain": [
       "<Figure size 640x480 with 1 Axes>"
      ]
     },
     "metadata": {},
     "output_type": "display_data"
    }
   ],
   "source": [
    "(df['accent'].value_counts() / df.shape[0] * 100).plot(kind='bar', title='Label Distribution');"
   ]
  },
  {
   "cell_type": "markdown",
   "id": "bb075cb7",
   "metadata": {},
   "source": [
    "# Sentence Length"
   ]
  },
  {
   "cell_type": "code",
   "execution_count": 23,
   "id": "d7375f3b",
   "metadata": {},
   "outputs": [
    {
     "data": {
      "text/plain": [
       "(count    209791.000000\n",
       " mean          9.001082\n",
       " std           3.456210\n",
       " min           1.000000\n",
       " 25%           6.000000\n",
       " 50%           9.000000\n",
       " 75%          12.000000\n",
       " max          40.000000\n",
       " Name: length, dtype: float64,\n",
       " <Axes: title={'center': 'Sentence Length Distribution'}, ylabel='Frequency'>)"
      ]
     },
     "execution_count": 23,
     "metadata": {},
     "output_type": "execute_result"
    },
    {
     "data": {
      "image/png": "[encoded data removed]",
      "text/plain": [
       "<Figure size 640x480 with 1 Axes>"
      ]
     },
     "metadata": {},
     "output_type": "display_data"
    }
   ],
   "source": [
    "df['length'] = df['sentence'].str.split().apply(len)\n",
    "df['length'].describe(), df['length'].plot(kind='hist', bins=40, title='Sentence Length Distribution')"
   ]
  },
  {
   "cell_type": "code",
   "execution_count": 25,
   "id": "beb7268e",
   "metadata": {},
   "outputs": [
    {
     "data": {
      "text/plain": [
       "(45, 10)"
      ]
     },
     "execution_count": 25,
     "metadata": {},
     "output_type": "execute_result"
    }
   ],
   "source": [
    "df[df['sentence'].str.split().apply(len) == 1].shape"
   ]
  },
  {
   "cell_type": "markdown",
   "id": "865828aa",
   "metadata": {},
   "source": [
    "# Features"
   ]
  },
  {
   "cell_type": "code",
   "execution_count": null,
   "id": "127fe99d",
   "metadata": {},
   "outputs": [],
   "source": [
    "import librosa.display\n",
    "\n",
    "def visualize_traditional_features(features: dict, sr: int = 16000):\n",
    "    plt.figure(figsize=(12, 16))\n",
    "\n",
    "    # MFCC\n",
    "    plt.subplot(5, 1, 1)\n",
    "    librosa.display.specshow(features[\"mfcc\"], x_axis='time', sr=sr)\n",
    "    plt.colorbar()\n",
    "    plt.title('MFCC')\n",
    "\n",
    "    # Chroma\n",
    "    plt.subplot(5, 1, 2)\n",
    "    librosa.display.specshow(features[\"chroma\"], x_axis='time', y_axis='chroma', sr=sr)\n",
    "    plt.colorbar()\n",
    "    plt.title('Chroma')\n",
    "\n",
    "    # Spectral Contrast\n",
    "    plt.subplot(5, 1, 3)\n",
    "    librosa.display.specshow(features[\"contrast\"], x_axis='time', sr=sr)\n",
    "    plt.colorbar()\n",
    "    plt.title('Spectral Contrast')\n",
    "\n",
    "    # F0 (Pitch)\n",
    "    plt.subplot(5, 1, 4)\n",
    "    f0 = features[\"f0\"]\n",
    "    times_f0 = librosa.times_like(f0, sr=sr)\n",
    "    plt.plot(times_f0, f0, color='green')\n",
    "    plt.title('Pitch (F0)')\n",
    "    plt.ylabel('Hz')\n",
    "    plt.xlabel('Time (s)')\n",
    "\n",
    "    # ZCR\n",
    "    plt.subplot(5, 1, 5)\n",
    "    zcr = features[\"zcr\"]\n",
    "    plt.plot(librosa.times_like(zcr, sr=sr), zcr[0], color='purple')\n",
    "    plt.title('Zero-Crossing Rate')\n",
    "    plt.xlabel('Time (s)')\n",
    "\n",
    "    plt.tight_layout()\n",
    "    plt.show()\n",
    "\n",
    "    # Print diagnostics\n",
    "    print(\"Formants (Hz):\", features[\"formants\"])\n",
    "    print(f\"Duration statistics (s): mean = {features['dur_mean']:.2f}, std = {features['dur_std']:.2f}, segments = {features['dur_count']}\")\n"
   ]
  },
  {
   "cell_type": "code",
   "execution_count": null,
   "id": "5c0b16a1",
   "metadata": {},
   "outputs": [],
   "source": [
    "# Example index mapping\n",
    "feature_slices_v2 = {\n",
    "    \"MFCC\": slice(0, 20),                # 20 MFCCs\n",
    "    \"Chroma\": slice(20, 32),             # 12 chroma\n",
    "    \"Contrast\": slice(32, 39),           # 7 contrast bands\n",
    "    \"RMS\": slice(39, 40),                # 1 value\n",
    "    \"ZCR\": slice(40, 41),                # 1 value\n",
    "    \"Centroid\": slice(41, 42),           # 1 value\n",
    "    \"F0\": slice(42, 45),                 # mean, std, max\n",
    "    \"Loudness\": slice(45, 47),           # mean, std\n",
    "    \"Duration\": slice(47, 50),           # mean, std, count\n",
    "    \"Formants\": slice(50, 54)            # f1_mean, f1_std, f2_mean, f2_std\n",
    "}\n",
    "\n",
    "feature_slices_v3 = {\n",
    "    \"MFCC\": slice(0, 20),                # 20 MFCCs\n",
    "    \"Chroma\": slice(20, 32),             # 12 chroma\n",
    "    \"Contrast\": slice(32, 39),           # 7 contrast bands\n",
    "    \"RMS\": slice(39, 40),                # 1 value\n",
    "    \"ZCR\": slice(40, 41),                # 1 value\n",
    "    \"Centroid\": slice(41, 42),           # 1 value\n",
    "    \"F0\": slice(42, 45),                 # mean, std, max\n",
    "    \"Loudness\": slice(45, 47),           # mean, std\n",
    "    \"Duration\": slice(47, 50),           # mean, std, count\n",
    "    \"Formants\": slice(50, 54)            # f1_mean, f1_std, f2_mean, f2_std\n",
    "}"
   ]
  },
  {
   "cell_type": "code",
   "execution_count": null,
   "id": "6bc73341",
   "metadata": {},
   "outputs": [],
   "source": [
    "from modules.feature_extraction import FeatureExtractor\n",
    "extractor = FeatureExtractor()\n",
    "X, y = extractor.load_cached_features(\"traditional\", version=2)"
   ]
  },
  {
   "cell_type": "code",
   "execution_count": null,
   "id": "57d23f05",
   "metadata": {},
   "outputs": [],
   "source": [
    "plot_feature_samples(X, y, feature_slices_v2)"
   ]
  }
 ],
 "metadata": {
  "kernelspec": {
   "display_name": "venv",
   "language": "python",
   "name": "python3"
  },
  "language_info": {
   "codemirror_mode": {
    "name": "ipython",
    "version": 3
   },
   "file_extension": ".py",
   "mimetype": "text/x-python",
   "name": "python",
   "nbconvert_exporter": "python",
   "pygments_lexer": "ipython3",
   "version": "3.10.6"
  }
 },
 "nbformat": 4,
 "nbformat_minor": 5
}
