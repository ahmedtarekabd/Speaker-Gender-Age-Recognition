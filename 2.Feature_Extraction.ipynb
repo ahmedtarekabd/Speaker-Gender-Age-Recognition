{
 "cells": [
  {
   "cell_type": "markdown",
   "id": "b8bc2fb3",
   "metadata": {},
   "source": [
    "# Imports"
   ]
  },
  {
   "cell_type": "code",
   "execution_count": null,
   "id": "3cfaad4e",
   "metadata": {},
   "outputs": [],
   "source": [
    "import os\n",
    "import librosa\n",
    "import numpy as np\n",
    "import pandas as pd\n",
    "from sklearn.model_selection import train_test_split"
   ]
  },
  {
   "cell_type": "markdown",
   "id": "221c9d7c",
   "metadata": {},
   "source": [
    "# Config"
   ]
  },
  {
   "cell_type": "code",
   "execution_count": null,
   "id": "d6d2b119",
   "metadata": {},
   "outputs": [],
   "source": [
    "from config import run_config\n",
    "\n",
    "run_config()"
   ]
  },
  {
   "cell_type": "markdown",
   "id": "5d03f354",
   "metadata": {},
   "source": [
    "# Feature Extraction"
   ]
  },
  {
   "cell_type": "code",
   "execution_count": null,
   "id": "9bfe0b54",
   "metadata": {},
   "outputs": [],
   "source": [
    "# Extract MFCC features (or replace with other feature extractors)\n",
    "df['features'] = df['audio_data'].apply(lambda y: librosa.feature.mfcc(y=y, sr=16000, n_mfcc=40).mean(axis=1))\n",
    "\n",
    "X = np.stack(df['features'].values)\n",
    "y = df['label'].values"
   ]
  },
  {
   "cell_type": "code",
   "execution_count": null,
   "id": "9b07f0fc",
   "metadata": {},
   "outputs": [],
   "source": [
    "# Train/val/test split\n",
    "X_train, X_temp, y_train, y_temp = train_test_split(X, y, test_size=0.15, random_state=0)\n",
    "X_val, X_test, y_val, y_test = train_test_split(X_temp, y_temp, test_size=0.5, random_state=0)"
   ]
  }
 ],
 "metadata": {
  "kernelspec": {
   "display_name": "venv",
   "language": "python",
   "name": "python3"
  },
  "language_info": {
   "name": "python",
   "version": "3.10.6"
  }
 },
 "nbformat": 4,
 "nbformat_minor": 5
}
